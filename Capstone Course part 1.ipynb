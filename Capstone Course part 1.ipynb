{
    "cells": [
        {
            "attachments": {},
            "cell_type": "markdown",
            "metadata": {},
            "source": "<h1><center>Coursera Capstone</center></h1>\n<h1><center>IBM Applied Data Science Capstone</center></h1>\n<h1><center>Opening a New Bakery in Dubai, United Arab Emirates</center></h1> <br>\n<br>\n<h3><center>by: Muhammad Bilal</center></h3> \n<h3><center>January, 2020</center></h3>\n<img src=\"https://3.bp.blogspot.com/-hWegcjQPTaI/Tw72135wU_I/AAAAAAAACBQ/yqJ3rj_AsX0/s1600/P1110194.JPG\" alt=\"Bakery\" title=\"Random Bakery in Dubai\" width=\"1200\" height=\"300\"/>"
        },
        {
            "cell_type": "markdown",
            "metadata": {
                "collapsed": true
            },
            "source": "# Problem Statement"
        },
        {
            "cell_type": "markdown",
            "metadata": {},
            "source": "<p> The objective of this capstone project is to analyse and select the best locations in the city of Dubai, UAE to open a new Bakery. Using data science methodology and machine learning techniques like clustering, this project aims to provide solutions to answer the business question: In the city of Dubai, UAE, if a property developer is looking to open a new Bakery, where would you recommend that they open it? </p>\n"
        },
        {
            "cell_type": "markdown",
            "metadata": {},
            "source": "# Target Audience of this project"
        },
        {
            "cell_type": "markdown",
            "metadata": {},
            "source": "<p> This project is particularly useful to property developers and investors looking to open or invest in new Bakery in the major city of UAE i.e. Dubai. This project is timely as the city is currently suffering from oversupply of Bakery. Data from the National Property Information Centre (NAPIC) released last year showed that an additional 15 per cent will be added to existing Bakery space, and the agency predicted that total occupancy may dip below 86 per cent. Thelocal newspaper The Dubai Mail also reported in March last year that the true occupancy rates in malls may be as low as 40 per cent in some areas, quoting a Financial Times (FT) article cataloguing the country continued obsession with building more shopping space despite chronic oversupply. </p>"
        },
        {
            "cell_type": "markdown",
            "metadata": {},
            "source": "# DATA"
        },
        {
            "cell_type": "markdown",
            "metadata": {},
            "source": "### To solve the problem, we will need the following data:\n\n* __List of neighbourhoods in Dubai:__ *This defines the scope of this project which is confined to the Emirates of Dubai, the capital city of the country of United Arad Emirates in Middle East.*\n* __Latitude and longitude coordinates of those neighbourhoods:__ *This is required in order to plot the map and also to get the venue data.*\n* __Venue data, particularly data related to shopping malls:__ *We will use this data to perform clustering on the neighbourhoods.*\n\n\n"
        },
        {
            "cell_type": "markdown",
            "metadata": {},
            "source": "# Sources of data and methods to extract them"
        },
        {
            "cell_type": "markdown",
            "metadata": {},
            "source": "</p> This Wikipedia page (https://en.wikipedia.org/wiki/List_of_communities_in_Dubai) contains a list of neighbourhoods in Kuala Lumpur, with a total of 70 neighbourhoods. We will use web scraping techniques to extract the data from the Wikipedia page, with the help of Python requests and beautifulsoup packages. Then we will get the geographical coordinates of the neighbourhoods using Python Geocoder package which will give us the latitude and longitude coordinates of the neighbourhoods.After that, we will use Foursquare API to get the venue data for those neighbourhoods. Foursquare has one of the largest database of 105+ million places and is used by over 125,000 developers.Foursquare API will provide many categories of the venue data, we are particularly interested in the Shopping Mall category in order to help us to solve the business problem put forward. This is a project that will make use of many data science skills, from web scraping (Wikipedia), working with API (Foursquare), data cleaning, data wrangling, to machine learning (K-means clustering) and map visualization (Folium). In the next section, we will present the Methodology section where we will discuss the steps taken in this project, the data analysis that we did and the machine learningtechnique that was used. </p>"
        }
    ],
    "metadata": {
        "kernelspec": {
            "display_name": "Python 3.6",
            "language": "python",
            "name": "python3"
        },
        "language_info": {
            "codemirror_mode": {
                "name": "ipython",
                "version": 3
            },
            "file_extension": ".py",
            "mimetype": "text/x-python",
            "name": "python",
            "nbconvert_exporter": "python",
            "pygments_lexer": "ipython3",
            "version": "3.6.8"
        }
    },
    "nbformat": 4,
    "nbformat_minor": 1
}